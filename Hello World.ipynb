{
 "cells": [
  {
   "cell_type": "code",
   "execution_count": 2,
   "id": "5749b4dd",
   "metadata": {},
   "outputs": [],
   "source": [
    "import tkinter as tk\n",
    "root= tk.Tk()"
   ]
  },
  {
   "cell_type": "code",
   "execution_count": 3,
   "id": "ba2ff18b",
   "metadata": {},
   "outputs": [],
   "source": [
    "canvas1 = tk.Canvas(root, width=300, height=300)\n",
    "canvas1.pack()\n",
    "\n",
    "def hello ():\n",
    "    label1 = tk.Label(root, text= 'Hello World!', fg = 'green', font=('helvetica',12,'bold'))\n",
    "    canvas1.create_window(150,200, window=label1)\n",
    "    \n",
    "button1=tk.Button(text='Click Me', command=hello, bg='brown', fg='white')\n",
    "canvas1.create_window(150,150, window=button1)\n",
    "\n",
    "root.mainloop()"
   ]
  },
  {
   "cell_type": "code",
   "execution_count": null,
   "id": "fbc043b7",
   "metadata": {},
   "outputs": [],
   "source": []
  }
 ],
 "metadata": {
  "kernelspec": {
   "display_name": "Python 3 (ipykernel)",
   "language": "python",
   "name": "python3"
  },
  "language_info": {
   "codemirror_mode": {
    "name": "ipython",
    "version": 3
   },
   "file_extension": ".py",
   "mimetype": "text/x-python",
   "name": "python",
   "nbconvert_exporter": "python",
   "pygments_lexer": "ipython3",
   "version": "3.9.7"
  }
 },
 "nbformat": 4,
 "nbformat_minor": 5
}
